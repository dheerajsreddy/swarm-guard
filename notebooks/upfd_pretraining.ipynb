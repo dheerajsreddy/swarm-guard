{
 "cells": [
  {
   "metadata": {},
   "cell_type": "markdown",
   "source": "Adapted from https://github.com/pyg-team/pytorch_geometric/blob/master/examples/upfd.py",
   "id": "5eb48521c9e44a7c"
  },
  {
   "cell_type": "code",
   "id": "initial_id",
   "metadata": {
    "collapsed": true,
    "ExecuteTime": {
     "end_time": "2025-03-25T06:42:32.959532Z",
     "start_time": "2025-03-25T06:42:32.947871Z"
    }
   },
   "source": [
    "import matplotlib.pyplot as plt\n",
    "import torch\n",
    "import torch.nn as nn\n",
    "import torch.nn.functional as F\n",
    "from torch_geometric.datasets import UPFD\n",
    "from torch_geometric.loader import DataLoader\n",
    "from torch_geometric.nn import SAGEConv, global_mean_pool, BatchNorm"
   ],
   "outputs": [],
   "execution_count": 431
  },
  {
   "metadata": {
    "ExecuteTime": {
     "end_time": "2025-03-25T06:42:48.119558Z",
     "start_time": "2025-03-25T06:42:33.206450Z"
    }
   },
   "cell_type": "code",
   "source": [
    "train_dataset = UPFD(\"../data\", \"politifact\", \"profile\", 'train')\n",
    "val_dataset = UPFD(\"../data\", \"politifact\", \"profile\", 'val')\n",
    "test_dataset = UPFD(\"../data\", \"politifact\", \"profile\", 'test')"
   ],
   "id": "a722778c6f2e819c",
   "outputs": [
    {
     "name": "stderr",
     "output_type": "stream",
     "text": [
      "Downloading https://drive.usercontent.google.com/download?id=1KOmSrlGcC50PjkvRVbyb_WoWHVql06J-&confirm=t\n",
      "Extracting ../data/politifact/raw/data.zip\n",
      "Processing...\n",
      "Done!\n"
     ]
    }
   ],
   "execution_count": 432
  },
  {
   "metadata": {
    "ExecuteTime": {
     "end_time": "2025-03-25T06:42:48.159950Z",
     "start_time": "2025-03-25T06:42:48.156150Z"
    }
   },
   "cell_type": "code",
   "source": "train_dataset[0]",
   "id": "c6462ce02f4d7ce1",
   "outputs": [
    {
     "data": {
      "text/plain": [
       "Data(x=[72, 10], edge_index=[2, 71], y=[1])"
      ]
     },
     "execution_count": 433,
     "metadata": {},
     "output_type": "execute_result"
    }
   ],
   "execution_count": 433
  },
  {
   "metadata": {
    "ExecuteTime": {
     "end_time": "2025-03-25T06:43:04.893366Z",
     "start_time": "2025-03-25T06:43:04.882883Z"
    }
   },
   "cell_type": "code",
   "source": [
    "train_loader = DataLoader(train_dataset, batch_size=128, shuffle=True)\n",
    "val_loader = DataLoader(val_dataset, batch_size=128, shuffle=False)\n",
    "test_loader = DataLoader(test_dataset, batch_size=128, shuffle=False)"
   ],
   "id": "47769669956b8cdd",
   "outputs": [],
   "execution_count": 438
  },
  {
   "metadata": {
    "ExecuteTime": {
     "end_time": "2025-03-25T06:43:05.137223Z",
     "start_time": "2025-03-25T06:43:05.131768Z"
    }
   },
   "cell_type": "code",
   "source": [
    "class Net(nn.Module):\n",
    "    def __init__(self, in_channels, hidden_channels, num_classes, dropout=0.3):\n",
    "        super(Net, self).__init__()\n",
    "        self.dropout = dropout\n",
    "\n",
    "        self.conv1 = SAGEConv(in_channels, hidden_channels)\n",
    "        self.bn1 = BatchNorm(hidden_channels)\n",
    "\n",
    "        self.conv2 = SAGEConv(hidden_channels, hidden_channels)\n",
    "        self.bn2 = BatchNorm(hidden_channels)\n",
    "\n",
    "        self.conv3 = SAGEConv(hidden_channels, hidden_channels)\n",
    "        self.bn3 = BatchNorm(hidden_channels)\n",
    "\n",
    "        self.classifier = nn.Linear(hidden_channels, num_classes)\n",
    "\n",
    "    def forward(self, x, edge_index, batch):\n",
    "        h = self.conv1(x, edge_index)\n",
    "        h = self.bn1(h)\n",
    "        h = F.relu(h)\n",
    "        h = F.dropout(h, p=self.dropout, training=self.training)\n",
    "\n",
    "        h = self.conv2(h, edge_index)\n",
    "        h = self.bn2(h)\n",
    "        h = F.relu(h)\n",
    "        h = F.dropout(h, p=self.dropout, training=self.training)\n",
    "\n",
    "        h = self.conv3(h, edge_index)\n",
    "        h = self.bn3(h)\n",
    "        h = F.relu(h)\n",
    "        h = F.dropout(h, p=self.dropout, training=self.training)\n",
    "\n",
    "        h = global_mean_pool(h, batch)\n",
    "        out = self.classifier(h)\n",
    "        return out"
   ],
   "id": "f08df702d8d3df09",
   "outputs": [],
   "execution_count": 439
  },
  {
   "metadata": {
    "ExecuteTime": {
     "end_time": "2025-03-25T06:43:05.228867Z",
     "start_time": "2025-03-25T06:43:05.224734Z"
    }
   },
   "cell_type": "code",
   "source": "train_dataset.num_classes",
   "id": "b6c31176fd36fa44",
   "outputs": [
    {
     "data": {
      "text/plain": [
       "2"
      ]
     },
     "execution_count": 440,
     "metadata": {},
     "output_type": "execute_result"
    }
   ],
   "execution_count": 440
  },
  {
   "metadata": {
    "ExecuteTime": {
     "end_time": "2025-03-25T07:02:47.435388Z",
     "start_time": "2025-03-25T07:02:47.383855Z"
    }
   },
   "cell_type": "code",
   "source": [
    "device = torch.device('cuda' if torch.cuda.is_available() else 'mps')  # Change to cpu if on Windows or non metal macs\n",
    "model = Net(train_dataset.num_features, 128, train_dataset.num_classes).to(device)\n",
    "optimizer = torch.optim.AdamW(model.parameters(), lr=0.001, weight_decay=5e-4)\n",
    "criterion = torch.nn.CrossEntropyLoss()"
   ],
   "id": "fb99a7d1c6504391",
   "outputs": [],
   "execution_count": 451
  },
  {
   "metadata": {
    "ExecuteTime": {
     "end_time": "2025-03-25T07:02:47.750229Z",
     "start_time": "2025-03-25T07:02:47.746667Z"
    }
   },
   "cell_type": "code",
   "source": [
    "def train():\n",
    "    model.train()\n",
    "\n",
    "    total_loss = 0\n",
    "    for data in train_loader:\n",
    "        data = data.to(device)\n",
    "        optimizer.zero_grad()\n",
    "        out = model(data.x, data.edge_index, data.batch)\n",
    "        loss = criterion(out, data.y)\n",
    "        loss.backward()\n",
    "        optimizer.step()\n",
    "        total_loss += float(loss) * data.num_graphs\n",
    "\n",
    "    return total_loss / len(train_loader.dataset)"
   ],
   "id": "24593b0931f9cd85",
   "outputs": [],
   "execution_count": 452
  },
  {
   "metadata": {
    "ExecuteTime": {
     "end_time": "2025-03-25T07:02:48.202283Z",
     "start_time": "2025-03-25T07:02:48.198596Z"
    }
   },
   "cell_type": "code",
   "source": [
    "@torch.no_grad()\n",
    "def test(loader):\n",
    "    model.eval()\n",
    "\n",
    "    total_correct = total_examples = 0\n",
    "    for data in loader:\n",
    "        data = data.to(device)\n",
    "        pred = model(data.x, data.edge_index, data.batch).argmax(dim=-1)\n",
    "        total_correct += int((pred == data.y).sum())\n",
    "        total_examples += data.num_graphs\n",
    "\n",
    "    return total_correct / total_examples"
   ],
   "id": "edf876d384f99cb2",
   "outputs": [],
   "execution_count": 453
  },
  {
   "metadata": {
    "ExecuteTime": {
     "end_time": "2025-03-25T07:03:05.863026Z",
     "start_time": "2025-03-25T07:02:48.393785Z"
    }
   },
   "cell_type": "code",
   "source": [
    "train_accs = []\n",
    "val_accs = []\n",
    "test_accs = []\n",
    "for epoch in range(1, 151):\n",
    "    loss = train()\n",
    "    train_acc = test(train_loader)\n",
    "    val_acc = test(val_loader)\n",
    "    test_acc = test(test_loader)\n",
    "    train_accs.append(train_acc)\n",
    "    val_accs.append(val_acc)\n",
    "    test_accs.append(test_acc)\n",
    "    print(f'Epoch: {epoch:02d}, Loss: {loss:.4f}, Train: {train_acc:.4f}, '\n",
    "          f'Val: {val_acc:.4f}, Test: {test_acc:.4f}')"
   ],
   "id": "50014719411b0246",
   "outputs": [
    {
     "name": "stdout",
     "output_type": "stream",
     "text": [
      "Epoch: 01, Loss: 0.6976, Train: 0.6129, Val: 0.4194, Test: 0.5068\n",
      "Epoch: 02, Loss: 0.6251, Train: 0.6935, Val: 0.5484, Test: 0.5792\n",
      "Epoch: 03, Loss: 0.5888, Train: 0.7581, Val: 0.6129, Test: 0.7557\n",
      "Epoch: 04, Loss: 0.5339, Train: 0.6774, Val: 0.6774, Test: 0.6516\n",
      "Epoch: 05, Loss: 0.4918, Train: 0.6129, Val: 0.6129, Test: 0.6109\n",
      "Epoch: 06, Loss: 0.4975, Train: 0.5484, Val: 0.5484, Test: 0.5837\n",
      "Epoch: 07, Loss: 0.4639, Train: 0.5161, Val: 0.5484, Test: 0.5475\n",
      "Epoch: 08, Loss: 0.4316, Train: 0.5000, Val: 0.5484, Test: 0.5339\n",
      "Epoch: 09, Loss: 0.4162, Train: 0.4839, Val: 0.5484, Test: 0.5294\n",
      "Epoch: 10, Loss: 0.4145, Train: 0.4839, Val: 0.5484, Test: 0.5339\n",
      "Epoch: 11, Loss: 0.4034, Train: 0.4839, Val: 0.5484, Test: 0.5339\n",
      "Epoch: 12, Loss: 0.3767, Train: 0.4839, Val: 0.5484, Test: 0.5339\n",
      "Epoch: 13, Loss: 0.3511, Train: 0.4677, Val: 0.5484, Test: 0.5339\n",
      "Epoch: 14, Loss: 0.3305, Train: 0.4677, Val: 0.5484, Test: 0.5294\n",
      "Epoch: 15, Loss: 0.3273, Train: 0.4677, Val: 0.5806, Test: 0.5339\n",
      "Epoch: 16, Loss: 0.3091, Train: 0.4677, Val: 0.5806, Test: 0.5385\n",
      "Epoch: 17, Loss: 0.3182, Train: 0.4677, Val: 0.5806, Test: 0.5430\n",
      "Epoch: 18, Loss: 0.3004, Train: 0.4839, Val: 0.5806, Test: 0.5566\n",
      "Epoch: 19, Loss: 0.2905, Train: 0.5161, Val: 0.5806, Test: 0.5747\n",
      "Epoch: 20, Loss: 0.3375, Train: 0.5161, Val: 0.5806, Test: 0.6018\n",
      "Epoch: 21, Loss: 0.2401, Train: 0.5806, Val: 0.5484, Test: 0.6335\n",
      "Epoch: 22, Loss: 0.2516, Train: 0.5968, Val: 0.6129, Test: 0.6516\n",
      "Epoch: 23, Loss: 0.2487, Train: 0.5968, Val: 0.6129, Test: 0.6697\n",
      "Epoch: 24, Loss: 0.2813, Train: 0.6129, Val: 0.6129, Test: 0.6742\n",
      "Epoch: 25, Loss: 0.2783, Train: 0.6452, Val: 0.6129, Test: 0.6833\n",
      "Epoch: 26, Loss: 0.2604, Train: 0.6774, Val: 0.6452, Test: 0.7059\n",
      "Epoch: 27, Loss: 0.2687, Train: 0.6774, Val: 0.6774, Test: 0.7104\n",
      "Epoch: 28, Loss: 0.2812, Train: 0.6935, Val: 0.6774, Test: 0.7376\n",
      "Epoch: 29, Loss: 0.2741, Train: 0.7742, Val: 0.6774, Test: 0.7421\n",
      "Epoch: 30, Loss: 0.2704, Train: 0.8226, Val: 0.7097, Test: 0.7602\n",
      "Epoch: 31, Loss: 0.2326, Train: 0.8387, Val: 0.7097, Test: 0.7647\n",
      "Epoch: 32, Loss: 0.2208, Train: 0.8710, Val: 0.7097, Test: 0.7738\n",
      "Epoch: 33, Loss: 0.2474, Train: 0.8710, Val: 0.7419, Test: 0.7828\n",
      "Epoch: 34, Loss: 0.2236, Train: 0.8871, Val: 0.7419, Test: 0.7873\n",
      "Epoch: 35, Loss: 0.2304, Train: 0.8871, Val: 0.7419, Test: 0.7738\n",
      "Epoch: 36, Loss: 0.2686, Train: 0.8871, Val: 0.7742, Test: 0.7828\n",
      "Epoch: 37, Loss: 0.1790, Train: 0.8871, Val: 0.8065, Test: 0.7783\n",
      "Epoch: 38, Loss: 0.2188, Train: 0.8871, Val: 0.8065, Test: 0.7783\n",
      "Epoch: 39, Loss: 0.1757, Train: 0.8871, Val: 0.8065, Test: 0.7783\n",
      "Epoch: 40, Loss: 0.2148, Train: 0.8871, Val: 0.8065, Test: 0.7783\n",
      "Epoch: 41, Loss: 0.1996, Train: 0.8871, Val: 0.8065, Test: 0.7873\n",
      "Epoch: 42, Loss: 0.2069, Train: 0.8871, Val: 0.7742, Test: 0.7873\n",
      "Epoch: 43, Loss: 0.1966, Train: 0.9194, Val: 0.7742, Test: 0.8009\n",
      "Epoch: 44, Loss: 0.2004, Train: 0.9194, Val: 0.7742, Test: 0.8009\n",
      "Epoch: 45, Loss: 0.2364, Train: 0.9194, Val: 0.7742, Test: 0.8009\n",
      "Epoch: 46, Loss: 0.1965, Train: 0.9194, Val: 0.7742, Test: 0.8009\n",
      "Epoch: 47, Loss: 0.1818, Train: 0.9194, Val: 0.7742, Test: 0.8009\n",
      "Epoch: 48, Loss: 0.1808, Train: 0.9355, Val: 0.7742, Test: 0.8009\n",
      "Epoch: 49, Loss: 0.1716, Train: 0.9355, Val: 0.7742, Test: 0.8009\n",
      "Epoch: 50, Loss: 0.1635, Train: 0.9355, Val: 0.7742, Test: 0.7964\n",
      "Epoch: 51, Loss: 0.1601, Train: 0.9355, Val: 0.7742, Test: 0.7964\n",
      "Epoch: 52, Loss: 0.1969, Train: 0.9355, Val: 0.7742, Test: 0.8009\n",
      "Epoch: 53, Loss: 0.1784, Train: 0.9194, Val: 0.7742, Test: 0.8009\n",
      "Epoch: 54, Loss: 0.1564, Train: 0.9516, Val: 0.8065, Test: 0.8145\n",
      "Epoch: 55, Loss: 0.1641, Train: 0.9516, Val: 0.7742, Test: 0.8145\n",
      "Epoch: 56, Loss: 0.1449, Train: 0.9516, Val: 0.7742, Test: 0.8145\n",
      "Epoch: 57, Loss: 0.1595, Train: 0.9516, Val: 0.7742, Test: 0.8190\n",
      "Epoch: 58, Loss: 0.1393, Train: 0.9516, Val: 0.7742, Test: 0.8281\n",
      "Epoch: 59, Loss: 0.1750, Train: 0.9516, Val: 0.7742, Test: 0.8281\n",
      "Epoch: 60, Loss: 0.1230, Train: 0.9516, Val: 0.7742, Test: 0.8281\n",
      "Epoch: 61, Loss: 0.1769, Train: 0.9516, Val: 0.8065, Test: 0.8281\n",
      "Epoch: 62, Loss: 0.1709, Train: 0.9516, Val: 0.8065, Test: 0.8281\n",
      "Epoch: 63, Loss: 0.1898, Train: 0.9516, Val: 0.8065, Test: 0.8281\n",
      "Epoch: 64, Loss: 0.1438, Train: 0.9516, Val: 0.8065, Test: 0.8235\n",
      "Epoch: 65, Loss: 0.1280, Train: 0.9516, Val: 0.8065, Test: 0.8281\n",
      "Epoch: 66, Loss: 0.1452, Train: 0.9677, Val: 0.8065, Test: 0.8235\n",
      "Epoch: 67, Loss: 0.1845, Train: 0.9677, Val: 0.8387, Test: 0.8190\n",
      "Epoch: 68, Loss: 0.1121, Train: 0.9677, Val: 0.8387, Test: 0.8145\n",
      "Epoch: 69, Loss: 0.1355, Train: 0.9677, Val: 0.8387, Test: 0.8145\n",
      "Epoch: 70, Loss: 0.1119, Train: 0.9677, Val: 0.8387, Test: 0.8145\n",
      "Epoch: 71, Loss: 0.1090, Train: 0.9839, Val: 0.8387, Test: 0.8145\n",
      "Epoch: 72, Loss: 0.1024, Train: 0.9839, Val: 0.8387, Test: 0.8100\n",
      "Epoch: 73, Loss: 0.1209, Train: 0.9839, Val: 0.8387, Test: 0.8054\n",
      "Epoch: 74, Loss: 0.1009, Train: 0.9839, Val: 0.8387, Test: 0.8100\n",
      "Epoch: 75, Loss: 0.1027, Train: 0.9839, Val: 0.8387, Test: 0.8100\n",
      "Epoch: 76, Loss: 0.1136, Train: 1.0000, Val: 0.8387, Test: 0.8100\n",
      "Epoch: 77, Loss: 0.1011, Train: 1.0000, Val: 0.8065, Test: 0.8054\n",
      "Epoch: 78, Loss: 0.1033, Train: 1.0000, Val: 0.8065, Test: 0.8054\n",
      "Epoch: 79, Loss: 0.1065, Train: 1.0000, Val: 0.8387, Test: 0.8054\n",
      "Epoch: 80, Loss: 0.0889, Train: 1.0000, Val: 0.8387, Test: 0.8145\n",
      "Epoch: 81, Loss: 0.1066, Train: 1.0000, Val: 0.8387, Test: 0.8145\n",
      "Epoch: 82, Loss: 0.1085, Train: 1.0000, Val: 0.8387, Test: 0.8145\n",
      "Epoch: 83, Loss: 0.0769, Train: 1.0000, Val: 0.8387, Test: 0.8100\n",
      "Epoch: 84, Loss: 0.1128, Train: 1.0000, Val: 0.8387, Test: 0.8190\n",
      "Epoch: 85, Loss: 0.0935, Train: 1.0000, Val: 0.8387, Test: 0.8190\n",
      "Epoch: 86, Loss: 0.0877, Train: 1.0000, Val: 0.8387, Test: 0.8145\n",
      "Epoch: 87, Loss: 0.0815, Train: 1.0000, Val: 0.8387, Test: 0.8145\n",
      "Epoch: 88, Loss: 0.0760, Train: 1.0000, Val: 0.8387, Test: 0.8100\n",
      "Epoch: 89, Loss: 0.0798, Train: 1.0000, Val: 0.8387, Test: 0.8100\n",
      "Epoch: 90, Loss: 0.0748, Train: 1.0000, Val: 0.8387, Test: 0.8100\n",
      "Epoch: 91, Loss: 0.0720, Train: 1.0000, Val: 0.8065, Test: 0.8100\n",
      "Epoch: 92, Loss: 0.0537, Train: 1.0000, Val: 0.8065, Test: 0.8100\n",
      "Epoch: 93, Loss: 0.0623, Train: 1.0000, Val: 0.7742, Test: 0.8054\n",
      "Epoch: 94, Loss: 0.0657, Train: 1.0000, Val: 0.7742, Test: 0.8009\n",
      "Epoch: 95, Loss: 0.0898, Train: 1.0000, Val: 0.8065, Test: 0.7964\n",
      "Epoch: 96, Loss: 0.0770, Train: 1.0000, Val: 0.8387, Test: 0.8009\n",
      "Epoch: 97, Loss: 0.0580, Train: 1.0000, Val: 0.8387, Test: 0.8054\n",
      "Epoch: 98, Loss: 0.0687, Train: 1.0000, Val: 0.8065, Test: 0.8054\n",
      "Epoch: 99, Loss: 0.0835, Train: 1.0000, Val: 0.8065, Test: 0.8054\n",
      "Epoch: 100, Loss: 0.0888, Train: 1.0000, Val: 0.8065, Test: 0.8054\n",
      "Epoch: 101, Loss: 0.0541, Train: 1.0000, Val: 0.8065, Test: 0.8054\n",
      "Epoch: 102, Loss: 0.0601, Train: 1.0000, Val: 0.8387, Test: 0.8054\n",
      "Epoch: 103, Loss: 0.0571, Train: 1.0000, Val: 0.8387, Test: 0.8145\n",
      "Epoch: 104, Loss: 0.0497, Train: 1.0000, Val: 0.8710, Test: 0.8054\n",
      "Epoch: 105, Loss: 0.0455, Train: 1.0000, Val: 0.8710, Test: 0.8100\n",
      "Epoch: 106, Loss: 0.0475, Train: 1.0000, Val: 0.8710, Test: 0.8145\n",
      "Epoch: 107, Loss: 0.0596, Train: 1.0000, Val: 0.8710, Test: 0.8100\n",
      "Epoch: 108, Loss: 0.0696, Train: 1.0000, Val: 0.8710, Test: 0.8100\n",
      "Epoch: 109, Loss: 0.0541, Train: 1.0000, Val: 0.8710, Test: 0.8145\n",
      "Epoch: 110, Loss: 0.0474, Train: 1.0000, Val: 0.8710, Test: 0.8100\n",
      "Epoch: 111, Loss: 0.0369, Train: 1.0000, Val: 0.8387, Test: 0.8054\n",
      "Epoch: 112, Loss: 0.0479, Train: 1.0000, Val: 0.8387, Test: 0.8009\n",
      "Epoch: 113, Loss: 0.0439, Train: 1.0000, Val: 0.8387, Test: 0.7964\n",
      "Epoch: 114, Loss: 0.0397, Train: 1.0000, Val: 0.8387, Test: 0.8009\n",
      "Epoch: 115, Loss: 0.0533, Train: 1.0000, Val: 0.8387, Test: 0.8009\n",
      "Epoch: 116, Loss: 0.0314, Train: 1.0000, Val: 0.8387, Test: 0.8009\n",
      "Epoch: 117, Loss: 0.0450, Train: 1.0000, Val: 0.8387, Test: 0.8054\n",
      "Epoch: 118, Loss: 0.0292, Train: 1.0000, Val: 0.8387, Test: 0.8100\n",
      "Epoch: 119, Loss: 0.0445, Train: 1.0000, Val: 0.8387, Test: 0.8054\n",
      "Epoch: 120, Loss: 0.0395, Train: 1.0000, Val: 0.8387, Test: 0.8100\n",
      "Epoch: 121, Loss: 0.0517, Train: 1.0000, Val: 0.8387, Test: 0.8054\n",
      "Epoch: 122, Loss: 0.0443, Train: 1.0000, Val: 0.8387, Test: 0.8100\n",
      "Epoch: 123, Loss: 0.0247, Train: 1.0000, Val: 0.8387, Test: 0.8054\n",
      "Epoch: 124, Loss: 0.0370, Train: 1.0000, Val: 0.8387, Test: 0.8054\n",
      "Epoch: 125, Loss: 0.0486, Train: 1.0000, Val: 0.8387, Test: 0.8100\n",
      "Epoch: 126, Loss: 0.0275, Train: 1.0000, Val: 0.8387, Test: 0.8054\n",
      "Epoch: 127, Loss: 0.0285, Train: 1.0000, Val: 0.8387, Test: 0.8009\n",
      "Epoch: 128, Loss: 0.0413, Train: 1.0000, Val: 0.8387, Test: 0.8054\n",
      "Epoch: 129, Loss: 0.0318, Train: 1.0000, Val: 0.8387, Test: 0.8100\n",
      "Epoch: 130, Loss: 0.0531, Train: 1.0000, Val: 0.8387, Test: 0.8009\n",
      "Epoch: 131, Loss: 0.0417, Train: 1.0000, Val: 0.8387, Test: 0.7919\n",
      "Epoch: 132, Loss: 0.0275, Train: 1.0000, Val: 0.8065, Test: 0.7964\n",
      "Epoch: 133, Loss: 0.0356, Train: 1.0000, Val: 0.8065, Test: 0.8009\n",
      "Epoch: 134, Loss: 0.0300, Train: 1.0000, Val: 0.8065, Test: 0.7964\n",
      "Epoch: 135, Loss: 0.0400, Train: 1.0000, Val: 0.8065, Test: 0.8100\n",
      "Epoch: 136, Loss: 0.0269, Train: 1.0000, Val: 0.8065, Test: 0.8054\n",
      "Epoch: 137, Loss: 0.0243, Train: 1.0000, Val: 0.8065, Test: 0.8009\n",
      "Epoch: 138, Loss: 0.0206, Train: 1.0000, Val: 0.8065, Test: 0.8054\n",
      "Epoch: 139, Loss: 0.0380, Train: 1.0000, Val: 0.8065, Test: 0.8054\n",
      "Epoch: 140, Loss: 0.0279, Train: 1.0000, Val: 0.8387, Test: 0.7964\n",
      "Epoch: 141, Loss: 0.0272, Train: 1.0000, Val: 0.8387, Test: 0.7964\n",
      "Epoch: 142, Loss: 0.0302, Train: 1.0000, Val: 0.8387, Test: 0.8009\n",
      "Epoch: 143, Loss: 0.0359, Train: 1.0000, Val: 0.8387, Test: 0.8009\n",
      "Epoch: 144, Loss: 0.0314, Train: 1.0000, Val: 0.8387, Test: 0.8054\n",
      "Epoch: 145, Loss: 0.0389, Train: 1.0000, Val: 0.8387, Test: 0.8054\n",
      "Epoch: 146, Loss: 0.0294, Train: 1.0000, Val: 0.8065, Test: 0.8054\n",
      "Epoch: 147, Loss: 0.0193, Train: 1.0000, Val: 0.8065, Test: 0.8009\n",
      "Epoch: 148, Loss: 0.0165, Train: 1.0000, Val: 0.7742, Test: 0.7964\n",
      "Epoch: 149, Loss: 0.0313, Train: 1.0000, Val: 0.7742, Test: 0.8009\n",
      "Epoch: 150, Loss: 0.0285, Train: 1.0000, Val: 0.7742, Test: 0.8054\n"
     ]
    }
   ],
   "execution_count": 454
  },
  {
   "metadata": {
    "ExecuteTime": {
     "end_time": "2025-03-25T07:03:05.933383Z",
     "start_time": "2025-03-25T07:03:05.872439Z"
    }
   },
   "cell_type": "code",
   "source": [
    "plt.plot(train_accs, label='Train Acc')\n",
    "plt.plot(val_accs, label='Val Acc')\n",
    "plt.plot(test_accs, label='Test Acc')\n",
    "plt.legend()\n",
    "plt.show()"
   ],
   "id": "856c598bd314fd79",
   "outputs": [
    {
     "data": {
      "text/plain": [
       "<Figure size 640x480 with 1 Axes>"
      ],
      "image/png": "[encoded data removed]"
     },
     "metadata": {},
     "output_type": "display_data"
    }
   ],
   "execution_count": 455
  },
  {
   "metadata": {
    "ExecuteTime": {
     "end_time": "2025-03-24T06:42:52.588579Z",
     "start_time": "2025-03-24T06:42:52.570899Z"
    }
   },
   "cell_type": "code",
   "source": "torch.save(model.state_dict(), \"../models/gnn_pretrained.pth\")",
   "id": "2fd6c560d32d8c8e",
   "outputs": [],
   "execution_count": 393
  },
  {
   "metadata": {},
   "cell_type": "code",
   "outputs": [],
   "execution_count": null,
   "source": "",
   "id": "d9aa362546a454dc"
  }
 ],
 "metadata": {
  "kernelspec": {
   "display_name": "Python 3",
   "language": "python",
   "name": "python3"
  },
  "language_info": {
   "codemirror_mode": {
    "name": "ipython",
    "version": 2
   },
   "file_extension": ".py",
   "mimetype": "text/x-python",
   "name": "python",
   "nbconvert_exporter": "python",
   "pygments_lexer": "ipython2",
   "version": "2.7.6"
  }
 },
 "nbformat": 4,
 "nbformat_minor": 5
}
