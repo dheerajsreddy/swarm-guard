{
 "cells": [
  {
   "cell_type": "markdown",
   "id": "f0af5646",
   "metadata": {},
   "source": [
    "#### Imports"
   ]
  },
  {
   "cell_type": "code",
   "execution_count": 11,
   "id": "b7fce4e9",
   "metadata": {},
   "outputs": [],
   "source": [
    "import os\n",
    "import sys\n",
    "\n",
    "ROOT_DIR = '/Users/hitesh/CSCI566/swarm-guard'\n",
    "os.environ['PYTHONPATH'] = ROOT_DIR\n",
    "sys.path.append(ROOT_DIR)\n",
    "\n",
    "import torch\n",
    "from PIL import Image\n",
    "from transformers import AutoImageProcessor, AutoModelForImageClassification\n",
    "from src.dataset.astroturf_image_dataset import AstroturfImageDataset "
   ]
  },
  {
   "cell_type": "code",
   "execution_count": 13,
   "id": "ee07c8e7",
   "metadata": {},
   "outputs": [],
   "source": [
    "# config\n",
    "MODEL_ID = \"google/vit-base-patch16-224\"\n",
    "BATCH_SIZE = 128\n",
    "NUM_WORKERS = 2"
   ]
  },
  {
   "cell_type": "code",
   "execution_count": null,
   "id": "8a06a289",
   "metadata": {},
   "outputs": [],
   "source": [
    "# Initialize \n",
    "dataset = AstroturfImageDataset(\n",
    "    root = os.path.join(ROOT_DIR,'dataset/'),\n",
    "    transform = AutoImageProcessor.from_pretrained(MODEL_ID),\n",
    "    split='train',\n",
    "    shuffle=True,\n",
    "    cache_processor=True,\n",
    "    max_samples=100, # Load only 100 samples for testing\n",
    ")"
   ]
  }
 ],
 "metadata": {
  "kernelspec": {
   "display_name": "env",
   "language": "python",
   "name": "python3"
  },
  "language_info": {
   "codemirror_mode": {
    "name": "ipython",
    "version": 3
   },
   "file_extension": ".py",
   "mimetype": "text/x-python",
   "name": "python",
   "nbconvert_exporter": "python",
   "pygments_lexer": "ipython3",
   "version": "3.11.5"
  }
 },
 "nbformat": 4,
 "nbformat_minor": 5
}
